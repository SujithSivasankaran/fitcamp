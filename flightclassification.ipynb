{
  "nbformat": 4,
  "nbformat_minor": 0,
  "metadata": {
    "kernelspec": {
      "display_name": "Python 3",
      "language": "python",
      "name": "python3"
    },
    "language_info": {
      "codemirror_mode": {
        "name": "ipython",
        "version": 3
      },
      "file_extension": ".py",
      "mimetype": "text/x-python",
      "name": "python",
      "nbconvert_exporter": "python",
      "pygments_lexer": "ipython3",
      "version": "3.7.4"
    },
    "colab": {
      "name": "classification.ipynb",
      "provenance": [],
      "collapsed_sections": [],
      "include_colab_link": true
    }
  },
  "cells": [
    {
      "cell_type": "markdown",
      "metadata": {
        "id": "view-in-github",
        "colab_type": "text"
      },
      "source": [
        "<a href=\"https://colab.research.google.com/github/SujithSivasankaran/fitcamp/blob/master/flightclassification.ipynb\" target=\"_parent\"><img src=\"https://colab.research.google.com/assets/colab-badge.svg\" alt=\"Open In Colab\"/></a>"
      ]
    },
    {
      "cell_type": "code",
      "metadata": {
        "id": "_9dtKPbnW-dH",
        "colab_type": "code",
        "colab": {
          "base_uri": "https://localhost:8080/",
          "height": 34
        },
        "outputId": "ab82db9e-d6d5-4f33-f91a-60ecfe6703cd"
      },
      "source": [
        "from google.colab import drive\n",
        "drive.mount('/content/drive')"
      ],
      "execution_count": 1,
      "outputs": [
        {
          "output_type": "stream",
          "text": [
            "Drive already mounted at /content/drive; to attempt to forcibly remount, call drive.mount(\"/content/drive\", force_remount=True).\n"
          ],
          "name": "stdout"
        }
      ]
    },
    {
      "cell_type": "markdown",
      "metadata": {
        "id": "-kMGhmKZyHGO",
        "colab_type": "text"
      },
      "source": [
        "#CLASSIFICATION"
      ]
    },
    {
      "cell_type": "code",
      "metadata": {
        "id": "Ps9c-XqHxGZN",
        "colab_type": "code",
        "colab": {
          "base_uri": "https://localhost:8080/",
          "height": 105
        },
        "outputId": "cacf671d-88fe-4660-ac9d-934a2e1201f6"
      },
      "source": [
        "import pandas as pd  \n",
        "import numpy as np  \n",
        "from sklearn.model_selection import train_test_split \n",
        "from sklearn.metrics import  classification_report\n",
        "from sklearn.linear_model import LogisticRegression\n",
        "from sklearn.tree import DecisionTreeClassifier\n",
        "from sklearn.datasets import make_classification\n",
        "from sklearn.ensemble import GradientBoostingClassifier\n",
        "from sklearn.ensemble import ExtraTreesClassifier\n",
        "from sklearn.datasets import make_classification\n",
        "from sklearn.model_selection import train_test_split\n",
        "from sklearn.preprocessing import StandardScaler\n",
        "from sklearn.ensemble import RandomForestClassifier\n",
        "from sklearn.preprocessing import LabelEncoder\n",
        "from imblearn.over_sampling import SMOTE\n",
        "from time import process_time\n",
        "import os"
      ],
      "execution_count": 2,
      "outputs": [
        {
          "output_type": "stream",
          "text": [
            "/usr/local/lib/python3.6/dist-packages/sklearn/externals/six.py:31: FutureWarning: The module is deprecated in version 0.21 and will be removed in version 0.23 since we've dropped support for Python 2.7. Please rely on the official version of six (https://pypi.org/project/six/).\n",
            "  \"(https://pypi.org/project/six/).\", FutureWarning)\n",
            "/usr/local/lib/python3.6/dist-packages/sklearn/utils/deprecation.py:144: FutureWarning: The sklearn.neighbors.base module is  deprecated in version 0.22 and will be removed in version 0.24. The corresponding classes / functions should instead be imported from sklearn.neighbors. Anything that cannot be imported from sklearn.neighbors is now part of the private API.\n",
            "  warnings.warn(message, FutureWarning)\n"
          ],
          "name": "stderr"
        }
      ]
    },
    {
      "cell_type": "markdown",
      "metadata": {
        "id": "Xp5qcvokzNbk",
        "colab_type": "text"
      },
      "source": [
        "Data processsing and Data split"
      ]
    },
    {
      "cell_type": "code",
      "metadata": {
        "id": "XpG05VN_yTA_",
        "colab_type": "code",
        "colab": {}
      },
      "source": [
        "def generate_model_report(y_test, y_pred):\n",
        "    print(classification_report(y_test, y_pred))"
      ],
      "execution_count": 3,
      "outputs": []
    },
    {
      "cell_type": "code",
      "metadata": {
        "id": "FWiPjnODyTEB",
        "colab_type": "code",
        "colab": {}
      },
      "source": [
        "target = 'ArrDel15'\n",
        "ds = pd.read_csv('/content/drive/My Drive/flight project /finaldata.csv')\n",
        "# ds.drop(columns = ['FlightDate', 'DepTime', 'DepDel15', 'OriginAirportID', 'DestAirportID', 'ArrDelayMinutes', 'mod_dep_time', 'ArrTime','airport', 'date' ], inplace = True)\n",
        "features = ['Quarter', 'Year', 'Month', 'DayofMonth', 'CRSDepTime', 'CRSArrTime', 'ArrDel15',\n",
        " 'Origin', 'Dest', 'windspeedKmph', 'winddirDegree', 'weatherCode', 'precipMM', 'visibility', 'pressure', 'cloudcover',\n",
        " 'DewPointF', 'WindGustKmph', 'tempF', 'WindChillF', 'humidity', 'time']\n",
        "ds = ds.loc[: , features  ]\n",
        "ds.dropna(inplace = True)"
      ],
      "execution_count": 4,
      "outputs": []
    },
    {
      "cell_type": "code",
      "metadata": {
        "id": "QajYR4AQyTGz",
        "colab_type": "code",
        "colab": {}
      },
      "source": [
        "X = ds.drop(target, axis = 1)\n",
        "X['Origin'] = LabelEncoder().fit_transform(X['Origin'])\n",
        "X['Dest'] = LabelEncoder().fit_transform(X['Dest'])\n",
        "y = ds[target]\n",
        "X_train, X_test, y_train, y_test = train_test_split(X, y, test_size = 0.20, random_state = 0)\n",
        "sc = StandardScaler()\n",
        "X_train = sc.fit_transform(X_train)\n",
        "X_test = sc.transform(X_test)"
      ],
      "execution_count": 5,
      "outputs": []
    },
    {
      "cell_type": "markdown",
      "metadata": {
        "id": "LLeGDntKzK19",
        "colab_type": "text"
      },
      "source": [
        "Logistic Regression"
      ]
    },
    {
      "cell_type": "code",
      "metadata": {
        "id": "W2XpnhJqyTLT",
        "colab_type": "code",
        "colab": {}
      },
      "source": [
        "def logistic(X_train, y_train):\n",
        "    print('logistic')\n",
        "    classifier = LogisticRegression(random_state = 0)\n",
        "    classifier.fit(X_train, y_train)\n",
        "    y_pred = classifier.predict(X_test)\n",
        "    generate_model_report(y_test, y_pred)"
      ],
      "execution_count": 6,
      "outputs": []
    },
    {
      "cell_type": "markdown",
      "metadata": {
        "id": "1BV_DAD_zRhq",
        "colab_type": "text"
      },
      "source": [
        "Decision Tree"
      ]
    },
    {
      "cell_type": "code",
      "metadata": {
        "id": "kYwN4yTHyTQO",
        "colab_type": "code",
        "colab": {}
      },
      "source": [
        "def decision_tree(X_train, y_train): \n",
        "    print('decision_tree')\n",
        "    classifier = DecisionTreeClassifier(criterion = 'entropy', random_state = 0)\n",
        "    classifier.fit(X_train, y_train)\n",
        "    y_pred = classifier.predict(X_test)\n",
        "    generate_model_report(y_test, y_pred)"
      ],
      "execution_count": 7,
      "outputs": []
    },
    {
      "cell_type": "markdown",
      "metadata": {
        "id": "V26MkK7qzD6U",
        "colab_type": "text"
      },
      "source": [
        "Random Forest Classifier"
      ]
    },
    {
      "cell_type": "code",
      "metadata": {
        "id": "6aJ5My0myTV4",
        "colab_type": "code",
        "colab": {}
      },
      "source": [
        "def RandomForest(X_train, y_train): \n",
        "    print('Random_Forest_classifier')\n",
        "    classifier = RandomForestClassifier(n_estimators = 100)\n",
        "    classifier.fit(X_train, y_train)\n",
        "    y_pred = classifier.predict(X_test)\n",
        "    generate_model_report(y_test, y_pred)"
      ],
      "execution_count": 8,
      "outputs": []
    },
    {
      "cell_type": "markdown",
      "metadata": {
        "id": "wHSA22NHzE-n",
        "colab_type": "text"
      },
      "source": [
        "Extra Tree"
      ]
    },
    {
      "cell_type": "code",
      "metadata": {
        "id": "aQokmIvFyTZC",
        "colab_type": "code",
        "colab": {}
      },
      "source": [
        "def extra_tree(X_train, y_train):\n",
        "    print('extra_tree')\n",
        "    X, y = make_classification(n_features = 21, random_state=0)\n",
        "    classifier = ExtraTreesClassifier(n_estimators = 100 , random_state=0)\n",
        "    classifier.fit(X, y)\n",
        "    y_pred = classifier.predict(X_test)\n",
        "    generate_model_report(y_test, y_pred)"
      ],
      "execution_count": 9,
      "outputs": []
    },
    {
      "cell_type": "markdown",
      "metadata": {
        "id": "dt-F4r_kzFuI",
        "colab_type": "text"
      },
      "source": [
        "Xgboost"
      ]
    },
    {
      "cell_type": "code",
      "metadata": {
        "id": "rxjP5WEjyTbe",
        "colab_type": "code",
        "colab": {}
      },
      "source": [
        "def xgboost(X_train, y_train):    \n",
        "    print('xgboost')\n",
        "    X, y = make_classification(random_state=0)\n",
        "    classifier = GradientBoostingClassifier(random_state=0)\n",
        "    classifier.fit(X_train, y_train)\n",
        "    y_pred = classifier.predict(X_test)\n",
        "    generate_model_report(y_test, y_pred)"
      ],
      "execution_count": 10,
      "outputs": []
    },
    {
      "cell_type": "markdown",
      "metadata": {
        "id": "uzL6KEdgzGTo",
        "colab_type": "text"
      },
      "source": [
        "under sampling"
      ]
    },
    {
      "cell_type": "code",
      "metadata": {
        "id": "wKnq6Gd5yTd-",
        "colab_type": "code",
        "colab": {
          "base_uri": "https://localhost:8080/",
          "height": 139
        },
        "outputId": "af9209fe-01d6-43ee-abb9-21b733389389"
      },
      "source": [
        "from imblearn.under_sampling import NearMiss \n",
        "nr = NearMiss() \n",
        "X_train_under, y_train_under = nr.fit_sample(X_train, y_train.ravel()) \n"
      ],
      "execution_count": 11,
      "outputs": [
        {
          "output_type": "stream",
          "text": [
            "/usr/local/lib/python3.6/dist-packages/sklearn/utils/deprecation.py:87: FutureWarning: Function safe_indexing is deprecated; safe_indexing is deprecated in version 0.22 and will be removed in version 0.24.\n",
            "  warnings.warn(msg, category=FutureWarning)\n",
            "/usr/local/lib/python3.6/dist-packages/sklearn/utils/deprecation.py:87: FutureWarning: Function safe_indexing is deprecated; safe_indexing is deprecated in version 0.22 and will be removed in version 0.24.\n",
            "  warnings.warn(msg, category=FutureWarning)\n",
            "/usr/local/lib/python3.6/dist-packages/sklearn/utils/deprecation.py:87: FutureWarning: Function safe_indexing is deprecated; safe_indexing is deprecated in version 0.22 and will be removed in version 0.24.\n",
            "  warnings.warn(msg, category=FutureWarning)\n"
          ],
          "name": "stderr"
        }
      ]
    },
    {
      "cell_type": "markdown",
      "metadata": {
        "id": "-MZ-WaktzHdO",
        "colab_type": "text"
      },
      "source": [
        "over sampling"
      ]
    },
    {
      "cell_type": "code",
      "metadata": {
        "id": "YMBMNibtyTgX",
        "colab_type": "code",
        "colab": {
          "base_uri": "https://localhost:8080/",
          "height": 71
        },
        "outputId": "57092d45-b41d-4467-d83d-9d0e4106ca40"
      },
      "source": [
        "sm = SMOTE(random_state = 42) \n",
        "X_train_over, y_train_over = sm.fit_resample(X_train, y_train) \n"
      ],
      "execution_count": 12,
      "outputs": [
        {
          "output_type": "stream",
          "text": [
            "/usr/local/lib/python3.6/dist-packages/sklearn/utils/deprecation.py:87: FutureWarning: Function safe_indexing is deprecated; safe_indexing is deprecated in version 0.22 and will be removed in version 0.24.\n",
            "  warnings.warn(msg, category=FutureWarning)\n"
          ],
          "name": "stderr"
        }
      ]
    },
    {
      "cell_type": "markdown",
      "metadata": {
        "id": "QTQqkdzszII0",
        "colab_type": "text"
      },
      "source": [
        "classification function"
      ]
    },
    {
      "cell_type": "code",
      "metadata": {
        "id": "nNjPQvYoyTlK",
        "colab_type": "code",
        "colab": {}
      },
      "source": [
        "def classification(X_value,y_value):\n",
        "    logistic(X_value, y_value)\n",
        "    decision_tree(X_value, y_value)\n",
        "    RandomForest(X_value, y_value) \n",
        "    extra_tree(X_value, y_value)\n",
        "    xgboost(X_value, y_value)\n",
        "    "
      ],
      "execution_count": 13,
      "outputs": []
    },
    {
      "cell_type": "markdown",
      "metadata": {
        "id": "6-9gsjtEzI0W",
        "colab_type": "text"
      },
      "source": [
        "main function"
      ]
    },
    {
      "cell_type": "code",
      "metadata": {
        "id": "1jkp4dfmyTnv",
        "colab_type": "code",
        "colab": {
          "base_uri": "https://localhost:8080/",
          "height": 1000
        },
        "outputId": "511f3b67-6b8f-403f-8143-5a0df3444017"
      },
      "source": [
        "\n",
        "print('GENERAL')\n",
        "classification(X_train, y_train)\n",
        "print('\\n\\nUNDERSAMPLING')\n",
        "classification(X_train_under, y_train_under)\n",
        "# print('\\n\\nOVERRSAMPLING')\n",
        "# classification(X_train_over, y_train_over)\n"
      ],
      "execution_count": 14,
      "outputs": [
        {
          "output_type": "stream",
          "text": [
            "GENERAL\n",
            "logistic\n",
            "              precision    recall  f1-score   support\n",
            "\n",
            "         0.0       0.80      1.00      0.89    292313\n",
            "         1.0       0.86      0.04      0.07     77910\n",
            "\n",
            "    accuracy                           0.80    370223\n",
            "   macro avg       0.83      0.52      0.48    370223\n",
            "weighted avg       0.81      0.80      0.71    370223\n",
            "\n",
            "decision_tree\n",
            "              precision    recall  f1-score   support\n",
            "\n",
            "         0.0       0.89      0.89      0.89    292313\n",
            "         1.0       0.59      0.61      0.60     77910\n",
            "\n",
            "    accuracy                           0.83    370223\n",
            "   macro avg       0.74      0.75      0.74    370223\n",
            "weighted avg       0.83      0.83      0.83    370223\n",
            "\n",
            "Random_Forest_classifier\n",
            "              precision    recall  f1-score   support\n",
            "\n",
            "         0.0       0.88      0.97      0.92    292313\n",
            "         1.0       0.81      0.53      0.64     77910\n",
            "\n",
            "    accuracy                           0.87    370223\n",
            "   macro avg       0.85      0.75      0.78    370223\n",
            "weighted avg       0.87      0.87      0.86    370223\n",
            "\n",
            "extra_tree\n",
            "              precision    recall  f1-score   support\n",
            "\n",
            "         0.0       0.83      0.38      0.52    292313\n",
            "         1.0       0.23      0.70      0.35     77910\n",
            "\n",
            "    accuracy                           0.45    370223\n",
            "   macro avg       0.53      0.54      0.44    370223\n",
            "weighted avg       0.70      0.45      0.49    370223\n",
            "\n",
            "xgboost\n",
            "              precision    recall  f1-score   support\n",
            "\n",
            "         0.0       0.85      0.99      0.92    292313\n",
            "         1.0       0.94      0.33      0.49     77910\n",
            "\n",
            "    accuracy                           0.86    370223\n",
            "   macro avg       0.90      0.66      0.70    370223\n",
            "weighted avg       0.87      0.86      0.83    370223\n",
            "\n",
            "\n",
            "\n",
            "UNDERSAMPLING\n",
            "logistic\n",
            "              precision    recall  f1-score   support\n",
            "\n",
            "         0.0       0.82      0.61      0.70    292313\n",
            "         1.0       0.25      0.49      0.33     77910\n",
            "\n",
            "    accuracy                           0.58    370223\n",
            "   macro avg       0.53      0.55      0.51    370223\n",
            "weighted avg       0.70      0.58      0.62    370223\n",
            "\n",
            "decision_tree\n",
            "              precision    recall  f1-score   support\n",
            "\n",
            "         0.0       0.90      0.61      0.73    292313\n",
            "         1.0       0.34      0.74      0.46     77910\n",
            "\n",
            "    accuracy                           0.64    370223\n",
            "   macro avg       0.62      0.68      0.60    370223\n",
            "weighted avg       0.78      0.64      0.67    370223\n",
            "\n",
            "Random_Forest_classifier\n",
            "              precision    recall  f1-score   support\n",
            "\n",
            "         0.0       0.89      0.50      0.64    292313\n",
            "         1.0       0.29      0.77      0.42     77910\n",
            "\n",
            "    accuracy                           0.56    370223\n",
            "   macro avg       0.59      0.64      0.53    370223\n",
            "weighted avg       0.77      0.56      0.60    370223\n",
            "\n",
            "extra_tree\n",
            "              precision    recall  f1-score   support\n",
            "\n",
            "         0.0       0.83      0.38      0.52    292313\n",
            "         1.0       0.23      0.70      0.35     77910\n",
            "\n",
            "    accuracy                           0.45    370223\n",
            "   macro avg       0.53      0.54      0.44    370223\n",
            "weighted avg       0.70      0.45      0.49    370223\n",
            "\n",
            "xgboost\n",
            "              precision    recall  f1-score   support\n",
            "\n",
            "         0.0       0.90      0.75      0.82    292313\n",
            "         1.0       0.42      0.68      0.52     77910\n",
            "\n",
            "    accuracy                           0.74    370223\n",
            "   macro avg       0.66      0.72      0.67    370223\n",
            "weighted avg       0.80      0.74      0.76    370223\n",
            "\n",
            "\n",
            "\n",
            "OVERRSAMPLING\n"
          ],
          "name": "stdout"
        },
        {
          "output_type": "error",
          "ename": "NameError",
          "evalue": "ignored",
          "traceback": [
            "\u001b[0;31m---------------------------------------------------------------------------\u001b[0m",
            "\u001b[0;31mNameError\u001b[0m                                 Traceback (most recent call last)",
            "\u001b[0;32m<ipython-input-14-6e240ef468bd>\u001b[0m in \u001b[0;36m<module>\u001b[0;34m()\u001b[0m\n\u001b[1;32m      5\u001b[0m \u001b[0mclassification\u001b[0m\u001b[0;34m(\u001b[0m\u001b[0mX_train_under\u001b[0m\u001b[0;34m,\u001b[0m \u001b[0my_train_under\u001b[0m\u001b[0;34m)\u001b[0m\u001b[0;34m\u001b[0m\u001b[0;34m\u001b[0m\u001b[0m\n\u001b[1;32m      6\u001b[0m \u001b[0mprint\u001b[0m\u001b[0;34m(\u001b[0m\u001b[0;34m'\\n\\nOVERRSAMPLING'\u001b[0m\u001b[0;34m)\u001b[0m\u001b[0;34m\u001b[0m\u001b[0;34m\u001b[0m\u001b[0m\n\u001b[0;32m----> 7\u001b[0;31m \u001b[0mclassification\u001b[0m\u001b[0;34m(\u001b[0m\u001b[0mx_train_over\u001b[0m\u001b[0;34m,\u001b[0m \u001b[0my_train_over\u001b[0m\u001b[0;34m)\u001b[0m\u001b[0;34m\u001b[0m\u001b[0;34m\u001b[0m\u001b[0m\n\u001b[0m",
            "\u001b[0;31mNameError\u001b[0m: name 'x_train_over' is not defined"
          ]
        }
      ]
    },
    {
      "cell_type": "code",
      "metadata": {
        "id": "KYjE1eorYwEs",
        "colab_type": "code",
        "colab": {
          "base_uri": "https://localhost:8080/",
          "height": 918
        },
        "outputId": "e4dd0ca4-498d-42a5-d136-3711a8e75f5a"
      },
      "source": [
        "print('\\n\\nOVERRSAMPLING')\n",
        "classification(X_train_over, y_train_over)"
      ],
      "execution_count": 15,
      "outputs": [
        {
          "output_type": "stream",
          "text": [
            "\n",
            "\n",
            "OVERRSAMPLING\n",
            "logistic\n",
            "              precision    recall  f1-score   support\n",
            "\n",
            "         0.0       0.85      0.59      0.70    292313\n",
            "         1.0       0.29      0.61      0.39     77910\n",
            "\n",
            "    accuracy                           0.60    370223\n",
            "   macro avg       0.57      0.60      0.54    370223\n",
            "weighted avg       0.73      0.60      0.63    370223\n",
            "\n",
            "decision_tree\n",
            "              precision    recall  f1-score   support\n",
            "\n",
            "         0.0       0.89      0.88      0.89    292313\n",
            "         1.0       0.58      0.61      0.59     77910\n",
            "\n",
            "    accuracy                           0.82    370223\n",
            "   macro avg       0.74      0.75      0.74    370223\n",
            "weighted avg       0.83      0.82      0.83    370223\n",
            "\n",
            "Random_Forest_classifier\n",
            "              precision    recall  f1-score   support\n",
            "\n",
            "         0.0       0.90      0.95      0.92    292313\n",
            "         1.0       0.77      0.59      0.67     77910\n",
            "\n",
            "    accuracy                           0.88    370223\n",
            "   macro avg       0.83      0.77      0.79    370223\n",
            "weighted avg       0.87      0.88      0.87    370223\n",
            "\n",
            "extra_tree\n",
            "              precision    recall  f1-score   support\n",
            "\n",
            "         0.0       0.83      0.38      0.52    292313\n",
            "         1.0       0.23      0.70      0.35     77910\n",
            "\n",
            "    accuracy                           0.45    370223\n",
            "   macro avg       0.53      0.54      0.44    370223\n",
            "weighted avg       0.70      0.45      0.49    370223\n",
            "\n",
            "xgboost\n",
            "              precision    recall  f1-score   support\n",
            "\n",
            "         0.0       0.89      0.95      0.92    292313\n",
            "         1.0       0.73      0.55      0.63     77910\n",
            "\n",
            "    accuracy                           0.86    370223\n",
            "   macro avg       0.81      0.75      0.77    370223\n",
            "weighted avg       0.86      0.86      0.86    370223\n",
            "\n"
          ],
          "name": "stdout"
        }
      ]
    },
    {
      "cell_type": "code",
      "metadata": {
        "id": "hXJP-jQxY1Ik",
        "colab_type": "code",
        "colab": {}
      },
      "source": [
        ""
      ],
      "execution_count": null,
      "outputs": []
    }
  ]
}